{
 "metadata": {
  "name": "",
  "signature": "sha256:269ffceac807d1feb0878ae0aa4cb62310c5489c645748710f04ed4ca94e5ee5"
 },
 "nbformat": 3,
 "nbformat_minor": 0,
 "worksheets": [
  {
   "cells": [
    {
     "cell_type": "heading",
     "level": 1,
     "metadata": {},
     "source": [
      "SIMA Motion Correction and Segmentation"
     ]
    },
    {
     "cell_type": "heading",
     "level": 2,
     "metadata": {},
     "source": [
      "Step 1: Initialize SARA notebook (required)"
     ]
    },
    {
     "cell_type": "code",
     "collapsed": false,
     "input": [
      "from sara import SaraUI\n",
      "\n",
      "print \"Notebook initialized\""
     ],
     "language": "python",
     "metadata": {},
     "outputs": []
    },
    {
     "cell_type": "heading",
     "level": 2,
     "metadata": {},
     "source": [
      "Step 2: Set up SIMA analysis directory (required)"
     ]
    },
    {
     "cell_type": "markdown",
     "metadata": {},
     "source": [
      "Using an existing SIMA directory can have unexpected effects, but if you know what you're doing, use the directory anyway."
     ]
    },
    {
     "cell_type": "code",
     "collapsed": false,
     "input": [
      "ui = SaraUI()"
     ],
     "language": "python",
     "metadata": {},
     "outputs": []
    },
    {
     "cell_type": "heading",
     "level": 2,
     "metadata": {},
     "source": [
      "Step 3: Motion Correction (optional)"
     ]
    },
    {
     "cell_type": "markdown",
     "metadata": {},
     "source": [
      "Currently only the 2D Plane Correction works\n",
      "\n",
      "Example file path on Mac OS X: `/Users/myusername/Desktop/image.tif`\n",
      "\n",
      "This step will not work if using an existing SIMA directory."
     ]
    },
    {
     "cell_type": "code",
     "collapsed": false,
     "input": [
      "ui.motionCorrect()"
     ],
     "language": "python",
     "metadata": {},
     "outputs": []
    },
    {
     "cell_type": "heading",
     "level": 2,
     "metadata": {},
     "source": [
      "Step 4: Segmentation (recommended)"
     ]
    },
    {
     "cell_type": "markdown",
     "metadata": {},
     "source": [
      "Use this to find ROIs automatically.\n",
      "\n",
      "Don't worry if you see a warning that says \"Polygon initialized without z-coordinate. Assigning to zeroth plane (z = 0)\"\n",
      "\n",
      "Creates a SIMA directory, if it doesn't already exist"
     ]
    },
    {
     "cell_type": "code",
     "collapsed": false,
     "input": [
      "ui.segment()"
     ],
     "language": "python",
     "metadata": {},
     "outputs": []
    },
    {
     "cell_type": "heading",
     "level": 2,
     "metadata": {},
     "source": [
      "Step 5: Visualization (optional)"
     ]
    },
    {
     "cell_type": "markdown",
     "metadata": {},
     "source": [
      "Use this to visualize the ROIs with matplotlib\n",
      "\n",
      "Only works when used with an existing SIMA directory where segmentation has been performed"
     ]
    },
    {
     "cell_type": "code",
     "collapsed": false,
     "input": [
      "ui.visualize()"
     ],
     "language": "python",
     "metadata": {},
     "outputs": []
    },
    {
     "cell_type": "heading",
     "level": 2,
     "metadata": {},
     "source": [
      "Step 6: Export signal data (recommended)"
     ]
    },
    {
     "cell_type": "markdown",
     "metadata": {},
     "source": [
      "Uses the output format chosen in Step 2."
     ]
    },
    {
     "cell_type": "code",
     "collapsed": false,
     "input": [
      "ui.exportSignal()"
     ],
     "language": "python",
     "metadata": {},
     "outputs": []
    }
   ],
   "metadata": {}
  }
 ]
}