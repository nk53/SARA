{
 "metadata": {
  "kernelspec": {
   "display_name": "Python 2",
   "language": "python",
   "name": "python2"
  },
  "language_info": {
   "codemirror_mode": {
    "name": "ipython",
    "version": 2
   },
   "file_extension": ".py",
   "mimetype": "text/x-python",
   "name": "python",
   "nbconvert_exporter": "python",
   "pygments_lexer": "ipython2",
   "version": "2.7.9"
  },
  "name": "",
  "signature": "sha256:0f2a59714508f0ae997b63f9bbb1f81441cd12e26ec00e62a638786c515f9c2e"
 },
 "nbformat": 3,
 "nbformat_minor": 0,
 "worksheets": [
  {
   "cells": [
    {
     "cell_type": "heading",
     "level": 1,
     "metadata": {},
     "source": [
      "SIMA Motion Correction and Segmentation"
     ]
    },
    {
     "cell_type": "heading",
     "level": 2,
     "metadata": {},
     "source": [
      "Step 1: Initialize SARA notebook (required)"
     ]
    },
    {
     "cell_type": "markdown",
     "metadata": {},
     "source": [
      "Note: Requires SIMA version 1.0.3\n",
      "\n",
      "`sara.py` **must** be located in the same directory as this notebook."
     ]
    },
    {
     "cell_type": "code",
     "collapsed": false,
     "input": [
      "from sara import SaraUI\n",
      "\n",
      "print \"Notebook initialized\""
     ],
     "language": "python",
     "metadata": {},
     "outputs": []
    },
    {
     "cell_type": "heading",
     "level": 2,
     "metadata": {},
     "source": [
      "Step 2: Set up SIMA analysis directory (required)"
     ]
    },
    {
     "cell_type": "markdown",
     "metadata": {},
     "source": [
      "#### Specifying a SIMA directory\n",
      "\n",
      "If you are creating a new SIMA analysis directory, you should specify the absolute or relative path to the directory you will be creating: e.g.:\n",
      "* Entering **`/Users/myusername/Desktop/analysis.sima`** will create a directory called **`analysis.sima`** on `mysername's` Desktop (on Mac OS X).\n",
      "* On Windows, you could do the same thing with **`C:\\Users\\myusername\\Desktop\\analysis.sima`** (note that Windows always uses back-slashes **`\\`** and UNIX-based OSes use forward-slashes **`/`**).\n",
      "* **`analysis.sima`** will create a directory called `analysis.sima` in the IPython notebook's current directory, and\n",
      "* **`../../analysis.sima`** will create the same directory two levels up from the current directory.\n",
      "\n",
      "You can specify the path to an *existing* SIMA directory as above, however *doing so can have unexpected results*. For example:\n",
      "* Motion correction cannot be run while in IPython if using an existing SIMA directory.\n",
      "* If a SIMA directory is moved or copied from its original location, analysis will not run (it will appear as though it is taking forever).\n",
      "\n",
      "Note that the '.sima' extension will be added for you if the name you specify doesn't end in '.sima'. This can potentially result in an analysis directory name of **`analysis.tif.sima`** if you happen to specify **`analysis.tif`**, for example.\n",
      "\n",
      "Note also that the SIMA analysis directory doesn't actually get created until you run **Step 3** or **Step 4**.\n",
      "\n",
      "#### Specifying a settings file\n",
      "\n",
      "This step will either create a new settings file (in CSV format) or overwrite an existing one. Specify absolute or relative path (as above). To create a file called **`settings.csv`** in the current directory, enter **`settings.csv`**\n",
      "\n",
      "#### Choosing a motion correction strategy\n",
      "\n",
      "Currently, SARA only supports 2D Plane Correction.\n",
      "\n",
      "#### Choosing a signal output format\n",
      "\n",
      "The output from **Step 6** can be labeled by time or frame number. SIMA doesn't automaticaly know the amount of time between frames, so choosing *time* will require you to specify a frames-to-time conversion."
     ]
    },
    {
     "cell_type": "code",
     "collapsed": false,
     "input": [
      "ui = SaraUI()"
     ],
     "language": "python",
     "metadata": {},
     "outputs": []
    },
    {
     "cell_type": "heading",
     "level": 2,
     "metadata": {},
     "source": [
      "Step 3: Motion Correction (optional)"
     ]
    },
    {
     "cell_type": "markdown",
     "metadata": {},
     "source": [
      "Uses the motion correction strategy chosen in **Step 2**. *This step will not work if using an existing SIMA directory!*\n",
      "\n",
      "#### Choosing a file to correct\n",
      "\n",
      "Specify an absolute or relative path as in **Step 2**. The file must exist, and must have a '.tif' or '.tiff' extension. To load a file in the current directory called **`original.tif`**, enter **`original.tif`**\n",
      "\n",
      "#### Choosing a file to save corrected frames to\n",
      "\n",
      "Specify an absolute or relative path as in **Step 2**. This will either create a new file or overwrite an existing one. To save the corrected frames to **`corrected.tif`**, enter **`corrected.tif`**\n",
      "\n",
      "#### Maximum (X, Y) displacement\n",
      "\n",
      "This parameter tells SIMA how far (in pixels) the image is allowed to move along the X and Y axes of the original image. To use the default value (100), just press enter in the prompt."
     ]
    },
    {
     "cell_type": "code",
     "collapsed": false,
     "input": [
      "ui.motionCorrect()"
     ],
     "language": "python",
     "metadata": {},
     "outputs": []
    },
    {
     "cell_type": "heading",
     "level": 2,
     "metadata": {},
     "source": [
      "Step 4: Segmentation (recommended)"
     ]
    },
    {
     "cell_type": "markdown",
     "metadata": {},
     "source": [
      "Use this to find ROIs automatically. Creates a SIMA directory, if it doesn't already exist. Don't worry if you see a warning that says \"Polygon initialized without z-coordinate. Assigning to zeroth plane (z = 0)\".\n",
      "\n",
      "As in **Step 3**, default values are used if you enter a blank value.\n",
      "\n",
      "#### Choosing number of PCA components\n",
      "\n",
      "Higher numbers tend to be more accurate, but take longer. Segmentation using the default value (50) tends to take about 30 minutes to complete, while a low value (like 1 or 5) should take no more than 5 minutes on most computers.\n",
      "\n",
      "The number you specify *must be a non-negative integer*. E.g. `50`\n",
      "\n",
      "#### Choosing mu\n",
      "\n",
      "**mu** represents the tradeoff between spatial and temporal information. Low values give higher weight to temporal information, and high values give high weight to spatial information.\n",
      "\n",
      "The number you specify *must be between 0 and 1*. E.g. `0.5`\n",
      "\n",
      "#### Choosing an overlap minimum\n",
      "\n",
      "This is the minimum percentage of two ROIs that must overlap before they are combined into the same ROI by SIMA.\n",
      "\n",
      "The number you specify *must be an integer between 0 and 100*. It may (but doesn't have to) be followed by a percentage (%) sign."
     ]
    },
    {
     "cell_type": "code",
     "collapsed": false,
     "input": [
      "ui.segment()"
     ],
     "language": "python",
     "metadata": {},
     "outputs": []
    },
    {
     "cell_type": "heading",
     "level": 2,
     "metadata": {},
     "source": [
      "Step 5: Visualization (optional)"
     ]
    },
    {
     "cell_type": "markdown",
     "metadata": {},
     "source": [
      "Use this to visualize the ROIs with matplotlib\n",
      "\n",
      "Only works when used with an existing SIMA directory where segmentation has been performed"
     ]
    },
    {
     "cell_type": "code",
     "collapsed": false,
     "input": [
      "ui.visualize()"
     ],
     "language": "python",
     "metadata": {},
     "outputs": []
    },
    {
     "cell_type": "heading",
     "level": 2,
     "metadata": {},
     "source": [
      "Step 6: Export signal data (recommended)"
     ]
    },
    {
     "cell_type": "markdown",
     "metadata": {},
     "source": [
      "Uses the output format chosen in **Step 2**. Don't worry if you see a warning that says `\"UserWarning: This call to matplotlib.use() has no effect\"`\n",
      "\n",
      "#### Choosing a file to export signal data to\n",
      "\n",
      "Specify an absolute or relative path as in **Step 2**. This will either create a new file or overwrite an existing one. The data will be stored in CSV format, regardless of whether you specify a '.csv' file extension.\n",
      "\n",
      "#### Specifying a capture rate (time output only)\n",
      "\n",
      "If you chose to output times instead of frame numbers (in **Step 2**), you will be prompted for a capture rate in frames per second.\n",
      "\n",
      "The number you enter *must be a positive number*. E.g. `1.28`"
     ]
    },
    {
     "cell_type": "code",
     "collapsed": false,
     "input": [
      "ui.exportSignal()"
     ],
     "language": "python",
     "metadata": {},
     "outputs": []
    }
   ],
   "metadata": {}
  }
 ]
}