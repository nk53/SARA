{
 "metadata": {
  "name": "",
  "signature": "sha256:640ef1b3596ef0ddd12c2c1924bd09e7eb19150517cb3393cc90f9867a8f58cb"
 },
 "nbformat": 3,
 "nbformat_minor": 0,
 "worksheets": [
  {
   "cells": [
    {
     "cell_type": "heading",
     "level": 1,
     "metadata": {},
     "source": [
      "SIMA Motion Correction and Segmentation"
     ]
    },
    {
     "cell_type": "code",
     "collapsed": false,
     "input": [
      "from sara import MotionCorrectionUI, SegmentationUI, SaraUI, VisualizationUI, SignalUI\n",
      "\n",
      "print \"Notebook initialized\""
     ],
     "language": "python",
     "metadata": {},
     "outputs": []
    },
    {
     "cell_type": "heading",
     "level": 2,
     "metadata": {},
     "source": [
      "Set up SIMA analysis directory"
     ]
    },
    {
     "cell_type": "markdown",
     "metadata": {},
     "source": [
      "Using an existing SIMA directory can have unexpected effects, but if you know what you're doing, use the directory anyway."
     ]
    },
    {
     "cell_type": "code",
     "collapsed": false,
     "input": [
      "ui = SaraUI()"
     ],
     "language": "python",
     "metadata": {},
     "outputs": []
    },
    {
     "cell_type": "heading",
     "level": 2,
     "metadata": {},
     "source": [
      "Motion Correction"
     ]
    },
    {
     "cell_type": "markdown",
     "metadata": {},
     "source": [
      "Currently only the 2D Plane Correction works\n",
      "\n",
      "Example file path on Mac OS X: `/Users/myusername/Desktop/image.tif`\n",
      "\n",
      "Creates a SIMA directory, if it doesn't already exist"
     ]
    },
    {
     "cell_type": "code",
     "collapsed": false,
     "input": [
      "motion = MotionCorrectionUI(ui)"
     ],
     "language": "python",
     "metadata": {},
     "outputs": []
    },
    {
     "cell_type": "heading",
     "level": 2,
     "metadata": {},
     "source": [
      "Segmentation"
     ]
    },
    {
     "cell_type": "markdown",
     "metadata": {},
     "source": [
      "Use this to find ROIs automatically.\n",
      "\n",
      "Don't worry if you see a warning that says \"Polygon initialized without z-coordinate. Assigning to zeroth plane (z = 0)\"\n",
      "\n",
      "Creates a SIMA directory, if it doesn't already exist"
     ]
    },
    {
     "cell_type": "code",
     "collapsed": false,
     "input": [
      "segmentation = SegmentationUI(ui)"
     ],
     "language": "python",
     "metadata": {},
     "outputs": []
    },
    {
     "cell_type": "heading",
     "level": 2,
     "metadata": {},
     "source": [
      "Visualization"
     ]
    },
    {
     "cell_type": "markdown",
     "metadata": {},
     "source": [
      "Use this to visualize the ROIs with matplotlib\n",
      "\n",
      "Only works when used with an existing SIMA directory where segmentation has been performed"
     ]
    },
    {
     "cell_type": "code",
     "collapsed": false,
     "input": [
      "visualization = VisualizationUI(ui)"
     ],
     "language": "python",
     "metadata": {},
     "outputs": []
    },
    {
     "cell_type": "heading",
     "level": 2,
     "metadata": {},
     "source": [
      "Export signal data"
     ]
    },
    {
     "cell_type": "markdown",
     "metadata": {},
     "source": []
    },
    {
     "cell_type": "code",
     "collapsed": false,
     "input": [
      "signal = SignalUI(ui)"
     ],
     "language": "python",
     "metadata": {},
     "outputs": []
    },
    {
     "cell_type": "code",
     "collapsed": false,
     "input": [],
     "language": "python",
     "metadata": {},
     "outputs": []
    }
   ],
   "metadata": {}
  }
 ]
}