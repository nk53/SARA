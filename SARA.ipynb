{
 "metadata": {
  "name": "",
  "signature": "sha256:e7254a9559fc9fca684e5c332a71e4898af41ddc60f5664aa6850b5415cb37ae"
 },
 "nbformat": 3,
 "nbformat_minor": 0,
 "worksheets": [
  {
   "cells": [
    {
     "cell_type": "heading",
     "level": 1,
     "metadata": {},
     "source": [
      "SIMA Motion Correction and Segmentation"
     ]
    },
    {
     "cell_type": "code",
     "collapsed": false,
     "input": [
      "from sara import MotionCorrectionUI, SegmentationUI, SaraUI\n",
      "\n",
      "print \"Notebook initialized\""
     ],
     "language": "python",
     "metadata": {},
     "outputs": []
    },
    {
     "cell_type": "heading",
     "level": 2,
     "metadata": {},
     "source": [
      "Set up SIMA analysis directory"
     ]
    },
    {
     "cell_type": "code",
     "collapsed": false,
     "input": [
      "ui = SaraUI()"
     ],
     "language": "python",
     "metadata": {},
     "outputs": []
    },
    {
     "cell_type": "heading",
     "level": 2,
     "metadata": {},
     "source": [
      "Motion Correction"
     ]
    },
    {
     "cell_type": "markdown",
     "metadata": {},
     "source": [
      "Currently only the 2D Plane Correction works\n",
      "\n",
      "Example file path on Mac OS X: `/Users/myusername/Desktop/image.tif`"
     ]
    },
    {
     "cell_type": "code",
     "collapsed": false,
     "input": [
      "motion = MotionCorrectionUI(ui)"
     ],
     "language": "python",
     "metadata": {},
     "outputs": []
    },
    {
     "cell_type": "heading",
     "level": 2,
     "metadata": {},
     "source": [
      "Segmentation"
     ]
    },
    {
     "cell_type": "markdown",
     "metadata": {},
     "source": [
      "Use this to find ROIs automatically.\n",
      "\n",
      "Don't worry if you see a warning that says \"Polygon initialized without z-coordinate. Assigning to zeroth plane (z = 0)\""
     ]
    },
    {
     "cell_type": "code",
     "collapsed": false,
     "input": [
      "segmentation = SegmentationUI(ui)"
     ],
     "language": "python",
     "metadata": {},
     "outputs": []
    }
   ],
   "metadata": {}
  }
 ]
}