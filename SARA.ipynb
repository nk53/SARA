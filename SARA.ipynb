{
 "metadata": {
  "name": "",
  "signature": "sha256:d0a55bf96c739bab93e95cea5da00564cdfea738fbeb583bcd063859034b8b78"
 },
 "nbformat": 3,
 "nbformat_minor": 0,
 "worksheets": [
  {
   "cells": [
    {
     "cell_type": "heading",
     "level": 1,
     "metadata": {},
     "source": [
      "SIMA Motion Correction and Segmentation"
     ]
    },
    {
     "cell_type": "code",
     "collapsed": false,
     "input": [
      "from sara import MotionCorrectionUI, SegmentationUI, SaraUI\n",
      "\n",
      "print \"Notebook initialized\""
     ],
     "language": "python",
     "metadata": {},
     "outputs": [
      {
       "output_type": "stream",
       "stream": "stdout",
       "text": [
        "Notebook initialized\n"
       ]
      }
     ],
     "prompt_number": 1
    },
    {
     "cell_type": "code",
     "collapsed": false,
     "input": [
      "ui = SaraUI()"
     ],
     "language": "python",
     "metadata": {},
     "outputs": [
      {
       "name": "stdout",
       "output_type": "stream",
       "stream": "stdout",
       "text": [
        "Name of SIMA analysis directory: sara_test\n"
       ]
      },
      {
       "name": "stdout",
       "output_type": "stream",
       "stream": "stdout",
       "text": [
        "The directory you entered already exists, do you want to use it anyway? (y/n): y\n"
       ]
      }
     ],
     "prompt_number": 2
    },
    {
     "cell_type": "heading",
     "level": 2,
     "metadata": {},
     "source": [
      "Motion Correction"
     ]
    },
    {
     "cell_type": "markdown",
     "metadata": {},
     "source": [
      "Currently only the 2D Plane Correction works\n",
      "\n",
      "Example file path on Mac OS X: `/Users/myusername/Desktop/image.tif`"
     ]
    },
    {
     "cell_type": "code",
     "collapsed": false,
     "input": [
      "motion = MotionCorrectionUI(ui)"
     ],
     "language": "python",
     "metadata": {},
     "outputs": [
      {
       "name": "stdout",
       "output_type": "stream",
       "stream": "stdout",
       "text": [
        "File path to your image: original.tif\n"
       ]
      },
      {
       "name": "stdout",
       "output_type": "stream",
       "stream": "stdout",
       "text": [
        "Where would you like to save the corrected frames? corrected.tif\n"
       ]
      },
      {
       "name": "stdout",
       "output_type": "stream",
       "stream": "stdout",
       "text": [
        "Maximum X displacement (in pixels): 100\n"
       ]
      },
      {
       "name": "stdout",
       "output_type": "stream",
       "stream": "stdout",
       "text": [
        "Maximum Y displacement (in pixels): 100\n"
       ]
      },
      {
       "output_type": "stream",
       "stream": "stdout",
       "text": [
        "Performing motion correction (this could take a while) . . .\n"
       ]
      },
      {
       "output_type": "stream",
       "stream": "stdout",
       "text": [
        "{'max_displacement': [100, 100]} <sima.sequence._Sequence_TIFF_Interleaved object at 0x106d78850> sara_test.sima\n",
        "Motion correction complete"
       ]
      },
      {
       "output_type": "stream",
       "stream": "stdout",
       "text": [
        "\n"
       ]
      }
     ],
     "prompt_number": 3
    },
    {
     "cell_type": "heading",
     "level": 2,
     "metadata": {},
     "source": [
      "Segmentation"
     ]
    },
    {
     "cell_type": "markdown",
     "metadata": {},
     "source": [
      "Use this to find ROIs automatically. You must provide \n",
      "\n",
      "Don't worry if you see a warning that says \"Polygon initialized without z-coordinate. Assigning to zeroth plane (z = 0)\""
     ]
    },
    {
     "cell_type": "code",
     "collapsed": false,
     "input": [
      "segmentation = SegmentationUI(ui)"
     ],
     "language": "python",
     "metadata": {},
     "outputs": [
      {
       "output_type": "stream",
       "stream": "stdout",
       "text": [
        "Using <ImagingDataset>\n"
       ]
      },
      {
       "name": "stdout",
       "output_type": "stream",
       "stream": "stdout",
       "text": [
        "Number of PCA components (higher numbers take longer; default 50): 5\n"
       ]
      },
      {
       "name": "stdout",
       "output_type": "stream",
       "stream": "stdout",
       "text": [
        "Tradeoff between spatial and temporal information (must be between 0 and 1; low values give higher weight to temporal information; default 0.5): 0.5\n"
       ]
      },
      {
       "name": "stdout",
       "output_type": "stream",
       "stream": "stdout",
       "text": [
        "Percent of ROIs that must overlap to be combined (must be between 0 and 100; enter 0 to skip this step; default 20): 0\n"
       ]
      },
      {
       "output_type": "stream",
       "stream": "stdout",
       "text": [
        "Performing Spatiotemporal Independent Component Analysis...\n"
       ]
      },
      {
       "output_type": "stream",
       "stream": "stdout",
       "text": [
        "134 ROIs found\n"
       ]
      },
      {
       "output_type": "stream",
       "stream": "stderr",
       "text": [
        "/opt/local/Library/Frameworks/Python.framework/Versions/2.7/lib/python2.7/site-packages/sima/ROI.py:668: UserWarning: Polygon initialized without z-coordinate. Assigning to zeroth plane (z = 0)\n",
        "  'Assigning to zeroth plane (z = 0)')\n"
       ]
      }
     ],
     "prompt_number": 5
    },
    {
     "cell_type": "code",
     "collapsed": false,
     "input": [],
     "language": "python",
     "metadata": {},
     "outputs": []
    }
   ],
   "metadata": {}
  }
 ]
}